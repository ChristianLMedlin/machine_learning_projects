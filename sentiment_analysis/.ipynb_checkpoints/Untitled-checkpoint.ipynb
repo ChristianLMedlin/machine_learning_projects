{
 "cells": [
  {
   "cell_type": "code",
   "execution_count": null,
   "metadata": {},
   "outputs": [],
   "source": [
    "import pandas as pd\n",
    "\n",
    "df_list = []\n",
    "filepath_dict = {'yelp':   'sentiment_labelled_sentences/yelp_labelled.txt',\n",
    "                 'amazon': 'sentiment_labelled_sentences/amazon_cells_labelled.txt',\n",
    "                 'imdb':   'sentiment_labelled_sentences/imdb_labelled.txt'}\n",
    "\n",
    "\n",
    "# iterate through each CSV file and label each sentence, lable, and source.\n",
    "# appends each sentiment to df_list \n",
    "for source, filepath in filepath_dict.items():\n",
    "    df = pd.read_csv(filepath, names=['sentence', 'label'], sep='\\t')\n",
    "    df['source'] = source\n",
    "    df_list.append(df)\n",
    "    \n",
    "print(df_list[0:10])"
   ]
  }
 ],
 "metadata": {
  "kernelspec": {
   "display_name": "Python 3",
   "language": "python",
   "name": "python3"
  },
  "language_info": {
   "codemirror_mode": {
    "name": "ipython",
    "version": 3
   },
   "file_extension": ".py",
   "mimetype": "text/x-python",
   "name": "python",
   "nbconvert_exporter": "python",
   "pygments_lexer": "ipython3",
   "version": "3.7.3"
  }
 },
 "nbformat": 4,
 "nbformat_minor": 2
}
