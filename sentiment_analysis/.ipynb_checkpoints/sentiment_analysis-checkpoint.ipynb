{
 "cells": [
  {
   "cell_type": "code",
   "execution_count": 15,
   "metadata": {
    "scrolled": false
   },
   "outputs": [
    {
     "name": "stdout",
     "output_type": "stream",
     "text": [
      "                                            Sentence  Label Source\n",
      "0                           Wow... Loved this place.      1   Yelp\n",
      "1                                 Crust is not good.      0   Yelp\n",
      "2          Not tasty and the texture was just nasty.      0   Yelp\n",
      "3  Stopped by during the late May bank holiday of...      1   Yelp\n",
      "4  The selection on the menu was great and so wer...      1   Yelp\n",
      "5     Now I am getting angry and I want my damn pho.      0   Yelp\n",
      "6              Honeslty it didn't taste THAT fresh.)      0   Yelp\n",
      "7  The potatoes were like rubber and you could te...      0   Yelp\n",
      "8                          The fries were great too.      1   Yelp\n",
      "9                                     A great touch.      1   Yelp\n"
     ]
    }
   ],
   "source": [
    "import pandas as pd\n",
    "\n",
    "df_list = []\n",
    "filepath_dict = {'Yelp':   'sentiment_labelled_sentences/yelp_labelled.txt',\n",
    "                 'Amazon': 'sentiment_labelled_sentences/amazon_cells_labelled.txt',\n",
    "                 'IMDB':   'sentiment_labelled_sentences/imdb_labelled.txt'}\n",
    "\n",
    "\n",
    "# iterate through each CSV file and label each sentence, label, and source to create a dataframe of the CSV content.\n",
    "# appends each dataframe to df_list \n",
    "for source, filepath in filepath_dict.items():\n",
    "    df = pd.read_csv(filepath, names=['Sentence', 'Label'], sep='\\t')\n",
    "    df['Source'] = source\n",
    "    df_list.append(df)\n",
    "    \n",
    "# combines each dataframe into a single dataframe variable, df, and then displays first 10 indexes of that dataframe.\n",
    "df = pd.concat(df_list)\n",
    "print(df.iloc[0:10])"
   ]
  },
  {
   "cell_type": "code",
   "execution_count": null,
   "metadata": {},
   "outputs": [],
   "source": [
    "from sklearn.model_selection import train_test_split\n",
    "\n",
    "df_yelp = df[df['source'] == 'yelp']\n",
    "\n",
    "sentences = df_yelp['sentence'].values\n",
    "labels = df_yelp['label'].values\n",
    "\n",
    "sentences_train, sentences_test, labels_train, labels_test = train_test_split(sentences, labels, test_size=0.2, random_state=42)"
   ]
  },
  {
   "cell_type": "code",
   "execution_count": null,
   "metadata": {},
   "outputs": [],
   "source": []
  }
 ],
 "metadata": {
  "kernelspec": {
   "display_name": "Python 3",
   "language": "python",
   "name": "python3"
  },
  "language_info": {
   "codemirror_mode": {
    "name": "ipython",
    "version": 3
   },
   "file_extension": ".py",
   "mimetype": "text/x-python",
   "name": "python",
   "nbconvert_exporter": "python",
   "pygments_lexer": "ipython3",
   "version": "3.7.3"
  }
 },
 "nbformat": 4,
 "nbformat_minor": 2
}
